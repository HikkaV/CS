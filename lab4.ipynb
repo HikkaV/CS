{
 "cells": [
  {
   "cell_type": "code",
   "execution_count": 39,
   "id": "34daa322",
   "metadata": {},
   "outputs": [],
   "source": [
    "import matplotlib.pyplot as plt\n",
    "import seaborn as sns\n",
    "import math\n",
    "from functools import partial, reduce\n",
    "from operator import mul\n",
    "import numpy as np\n",
    "sns.set()"
   ]
  },
  {
   "cell_type": "code",
   "execution_count": 9,
   "id": "9405eaee",
   "metadata": {},
   "outputs": [
    {
     "data": {
      "text/plain": [
       "'%.4f'"
      ]
     },
     "execution_count": 9,
     "metadata": {},
     "output_type": "execute_result"
    }
   ],
   "source": [
    "%precision 4"
   ]
  },
  {
   "cell_type": "code",
   "execution_count": 10,
   "id": "d160134f",
   "metadata": {},
   "outputs": [],
   "source": [
    "y_history_points = [1.7777, 4.5634, 13.8436, 37.3387, 72.3593]\n",
    "x_history_points = [1.3, 2.1, 3.7, 6.1, 8.5]\n",
    "x = 4.5\n",
    "actual_func = lambda x: 1/x*math.log10(x)+x**2"
   ]
  },
  {
   "cell_type": "markdown",
   "id": "af45cdd4",
   "metadata": {},
   "source": [
    "# Lagrange interpolation"
   ]
  },
  {
   "cell_type": "code",
   "execution_count": 11,
   "id": "b9024f37",
   "metadata": {},
   "outputs": [],
   "source": [
    "class LagrangeInterpolation:\n",
    "    def __init__(self, x_history_points, y_history_points):\n",
    "        self.x_history_points = x_history_points\n",
    "        self.y_history_points = y_history_points\n",
    "        self.interpolated_func = self.__interpolate_func()\n",
    "        \n",
    "    def __interpolate_func(self):\n",
    "        # building a nested function which is a composite of other functions\n",
    "        list_to_sum_up = []\n",
    "        for i in range(len(self.y_history_points)):\n",
    "            funcs = []\n",
    "            for j in range(len(self.y_history_points)):\n",
    "                if i!=j:\n",
    "                    func = lambda x, x_j, x_i: (x-x_j)/(x_i-x_j)\n",
    "                    func = partial(func, x_j=self.x_history_points[j], x_i=self.x_history_points[i])\n",
    "                    funcs.append(func)\n",
    "            L = lambda x, y_i, funcs: y_i*reduce(mul,[func(x=x) for func in funcs])    \n",
    "            L = partial(L, y_i=self.y_history_points[i], funcs=funcs)\n",
    "            list_to_sum_up.append(L)\n",
    "        interpolated_func = lambda x: sum([func(x=x) for func in list_to_sum_up])\n",
    "        return interpolated_func\n",
    "    \n",
    "    def interpolate(self, x):\n",
    "        # inteprolation for single point\n",
    "        return self.interpolated_func(x)\n",
    "    \n",
    "    def get_interpolated_curve(self):\n",
    "        # interpolation for whole curve\n",
    "        y_interpolated = [self.interpolated_func(i) for i in self.x_history_points]\n",
    "        return self.x_history_points, y_interpolated\n",
    "    \n",
    "    def get_initial_curve(self):\n",
    "        # getting intial curve\n",
    "        return self.x_history_points, self.y_history_points\n",
    "    \n",
    "    def error_in_point(self, initial_func, x):\n",
    "        # calculating error in point\n",
    "        return abs(initial_func(x)-self.interpolated_func(x))"
   ]
  },
  {
   "cell_type": "code",
   "execution_count": 12,
   "id": "8e4ca959",
   "metadata": {},
   "outputs": [],
   "source": [
    "interpolation_cls = LagrangeInterpolation(x_history_points, y_history_points)"
   ]
  },
  {
   "cell_type": "code",
   "execution_count": 13,
   "id": "b4b04bcc",
   "metadata": {
    "scrolled": true
   },
   "outputs": [
    {
     "name": "stdout",
     "output_type": "stream",
     "text": [
      "Interpolated value for x=4.5 is y=20.386783333333334\n"
     ]
    }
   ],
   "source": [
    "print(f'Interpolated value for x={x} is y={interpolation_cls.interpolate(x)}')"
   ]
  },
  {
   "cell_type": "code",
   "execution_count": 14,
   "id": "81b64139",
   "metadata": {},
   "outputs": [
    {
     "data": {
      "image/png": "[encoded data removed]",
      "text/plain": [
       "<Figure size 432x288 with 1 Axes>"
      ]
     },
     "metadata": {},
     "output_type": "display_data"
    }
   ],
   "source": [
    "plt.plot(*interpolation_cls.get_initial_curve(), '-o', color='b');\n",
    "plt.title('Real');"
   ]
  },
  {
   "cell_type": "code",
   "execution_count": 15,
   "id": "9e07506a",
   "metadata": {},
   "outputs": [
    {
     "data": {
      "image/png": "[encoded data removed]",
      "text/plain": [
       "<Figure size 432x288 with 1 Axes>"
      ]
     },
     "metadata": {},
     "output_type": "display_data"
    }
   ],
   "source": [
    "plt.plot(*interpolation_cls.get_interpolated_curve(), '-o', color='r')\n",
    "plt.title('Interpolated');"
   ]
  },
  {
   "cell_type": "code",
   "execution_count": 16,
   "id": "9a468e57",
   "metadata": {},
   "outputs": [
    {
     "name": "stdout",
     "output_type": "stream",
     "text": [
      "Actual error : 0.008375003061185993\n"
     ]
    }
   ],
   "source": [
    "print(f'Actual error : {interpolation_cls.error_in_point(actual_func, x)}')"
   ]
  },
  {
   "cell_type": "markdown",
   "id": "c4e9da59",
   "metadata": {},
   "source": [
    "# Computing theoretical error"
   ]
  },
  {
   "cell_type": "raw",
   "id": "6541a0c1",
   "metadata": {},
   "source": [
    "A = (x-x_0)*(x-x_1)*(x-x_2)*(x-x_3)*(x-x_4)\n",
    "n = 4+1\n",
    "B = n!\n",
    "K = A/B\n",
    "f(x) = (1/x)*log_10(x)+x**2\n",
    "M = |f^n(x)|\n",
    "error = (M/B)*A"
   ]
  },
  {
   "cell_type": "code",
   "execution_count": 17,
   "id": "edf2ea65",
   "metadata": {},
   "outputs": [],
   "source": [
    "A = reduce(mul,[abs(x-i) for i in x_history_points])"
   ]
  },
  {
   "cell_type": "code",
   "execution_count": 18,
   "id": "9815753d",
   "metadata": {},
   "outputs": [
    {
     "data": {
      "text/plain": [
       "39.3216"
      ]
     },
     "execution_count": 18,
     "metadata": {},
     "output_type": "execute_result"
    }
   ],
   "source": [
    "A"
   ]
  },
  {
   "cell_type": "code",
   "execution_count": 19,
   "id": "c79ebb72",
   "metadata": {},
   "outputs": [
    {
     "name": "stdout",
     "output_type": "stream",
     "text": [
      "4\n"
     ]
    }
   ],
   "source": [
    "n = len(x_history_points)-1\n",
    "print(n)\n",
    "B = reduce(mul,range(1,n+2))"
   ]
  },
  {
   "cell_type": "code",
   "execution_count": 20,
   "id": "354960a2",
   "metadata": {},
   "outputs": [
    {
     "data": {
      "text/plain": [
       "120"
      ]
     },
     "execution_count": 20,
     "metadata": {},
     "output_type": "execute_result"
    }
   ],
   "source": [
    "B"
   ]
  },
  {
   "cell_type": "code",
   "execution_count": 21,
   "id": "55bd7948",
   "metadata": {},
   "outputs": [],
   "source": [
    "K = A/B"
   ]
  },
  {
   "cell_type": "code",
   "execution_count": 22,
   "id": "21f7be00",
   "metadata": {},
   "outputs": [
    {
     "data": {
      "text/plain": [
       "0.3277"
      ]
     },
     "execution_count": 22,
     "metadata": {},
     "output_type": "execute_result"
    }
   ],
   "source": [
    "K"
   ]
  },
  {
   "cell_type": "code",
   "execution_count": 23,
   "id": "598a4c15",
   "metadata": {},
   "outputs": [],
   "source": [
    "f = lambda x: 2*math.log(10)*(3*(math.log(x)**4)+5*(math.log(x)**3)-15*(math.log(x)**2)-60*math.log(x)-60)/(x**4*(math.log(x)**6))\n",
    "# fifth derivative"
   ]
  },
  {
   "cell_type": "code",
   "execution_count": 24,
   "id": "522b256f",
   "metadata": {},
   "outputs": [],
   "source": [
    "M = lambda f: max([abs(f(i)) for i in x_history_points])"
   ]
  },
  {
   "cell_type": "code",
   "execution_count": 25,
   "id": "314e13f2",
   "metadata": {},
   "outputs": [
    {
     "name": "stdout",
     "output_type": "stream",
     "text": [
      "Theoretical error : 124199.2095887773\n"
     ]
    }
   ],
   "source": [
    "print(\"Theoretical error : {}\".format(K*M(f)))"
   ]
  },
  {
   "cell_type": "markdown",
   "id": "860a7333",
   "metadata": {},
   "source": [
    "# Newtons interpolation"
   ]
  },
  {
   "cell_type": "code",
   "execution_count": 84,
   "id": "abd3d540",
   "metadata": {},
   "outputs": [],
   "source": [
    "class NewtonsInterpolation:\n",
    "    def __init__(self,  x_history_points, y_history_points):\n",
    "        self.x_history_points = x_history_points\n",
    "        self.y_history_points = y_history_points\n",
    "        \n",
    "        self.fin_diff = self._compute_finite_differences()\n",
    "        \n",
    "    def _compute_finite_differences(self):\n",
    "        fin_diff = [] \n",
    "        y = self.y_history_points\n",
    "        for j in range(len(y)-1):\n",
    "            arr = []\n",
    "            for i in range(len(y)-1):\n",
    "                arr.append(y[i+1]-y[i])\n",
    "            y = arr\n",
    "            fin_diff.append(arr)\n",
    "        return fin_diff\n",
    "    \n",
    "    def compute_q_forward(self,x,h, N):\n",
    "        q = (x-self.x_history_points[0])/h\n",
    "        qs = [q-i+1 for i in range(1,N+1)]\n",
    "        qs = [reduce(mul,qs[:i]) for i in range(1, N+1)]\n",
    "        return qs\n",
    "        \n",
    "    def compute_q_backward(self,x,h, N):\n",
    "        q =  (x-self.x_history_points[-1])/h\n",
    "        qs = [q+i-1 for i in range(1, N+1)]\n",
    "        qs = [reduce(mul,qs[:i]) for i in range(1, N+1)]\n",
    "        return qs\n",
    "    \n",
    "    def interpolate_func_forward(self, x, h=None):\n",
    "        if not h:\n",
    "            h = self.x_history_points[1]-self.x_history_points[0]\n",
    "        interpolated = self.y_history_points[0]\n",
    "        N = len(self.y_history_points)-1\n",
    "        qs = self.compute_q_forward(x, h, N)\n",
    "        for i in range(N):\n",
    "            N_factorial = reduce(mul,range(1,i+2))\n",
    "            interpolated=interpolated+(self.fin_diff[i][0]/N_factorial)*qs[i]\n",
    "        return interpolated\n",
    "    \n",
    "    def interpolate_func_backward(self, x, h=None):\n",
    "        if not h:\n",
    "            h = self.x_history_points[1]-self.x_history_points[0]\n",
    "        interpolated = self.y_history_points[-1]\n",
    "        N = len(self.y_history_points)-1\n",
    "        qs = self.compute_q_backward(x, h, N)\n",
    "        for c,i in enumerate(range(N)[::-1]):\n",
    "            N_factorial = reduce(mul,range(1,c+2))\n",
    "            interpolated=interpolated+(self.fin_diff[c][i]/N_factorial)*qs[i]\n",
    "        return interpolated"
   ]
  },
  {
   "cell_type": "code",
   "execution_count": 118,
   "id": "e885a80a",
   "metadata": {},
   "outputs": [],
   "source": [
    "newtons_interpolation = NewtonsInterpolation(x_history_points, \n",
    "                                            y_history_points)"
   ]
  },
  {
   "cell_type": "code",
   "execution_count": 119,
   "id": "49c8b85a",
   "metadata": {},
   "outputs": [],
   "source": [
    "pred_forward = [newtons_interpolation.interpolate_func_forward(i, h=None) for i in x_history_points]"
   ]
  },
  {
   "cell_type": "code",
   "execution_count": 138,
   "id": "062eaf3b",
   "metadata": {},
   "outputs": [
    {
     "data": {
      "text/plain": [
       "[1.7777, 4.5634, 37.3387, 114.1704, -402.4702]"
      ]
     },
     "execution_count": 138,
     "metadata": {},
     "output_type": "execute_result"
    }
   ],
   "source": [
    "pred_forward"
   ]
  },
  {
   "cell_type": "code",
   "execution_count": 139,
   "id": "0c82499f",
   "metadata": {},
   "outputs": [
    {
     "data": {
      "text/plain": [
       "[103041.8586, 56949.0522, 11977.4007, 36.3946, 72.3593]"
      ]
     },
     "execution_count": 139,
     "metadata": {},
     "output_type": "execute_result"
    }
   ],
   "source": [
    "pred_backward"
   ]
  },
  {
   "cell_type": "code",
   "execution_count": 133,
   "id": "753bfc2c",
   "metadata": {},
   "outputs": [],
   "source": [
    "pred_backward = [newtons_interpolation.interpolate_func_backward(i, h=None) for i in x_history_points]"
   ]
  },
  {
   "cell_type": "code",
   "execution_count": 134,
   "id": "76377cdd",
   "metadata": {},
   "outputs": [
    {
     "data": {
      "image/png": "[encoded data removed]",
      "text/plain": [
       "<Figure size 432x288 with 1 Axes>"
      ]
     },
     "metadata": {},
     "output_type": "display_data"
    }
   ],
   "source": [
    "plt.plot(x_history_points,y_history_points, '-o', color='b');\n",
    "plt.title('Real');"
   ]
  },
  {
   "cell_type": "code",
   "execution_count": 135,
   "id": "3f2046b6",
   "metadata": {},
   "outputs": [
    {
     "data": {
      "image/png": "[encoded data removed]",
      "text/plain": [
       "<Figure size 432x288 with 1 Axes>"
      ]
     },
     "metadata": {},
     "output_type": "display_data"
    }
   ],
   "source": [
    "plt.plot(x_history_points,pred_forward, '-o', color='r');\n",
    "plt.title('Forward interpolation');"
   ]
  },
  {
   "cell_type": "code",
   "execution_count": 136,
   "id": "6a092c9d",
   "metadata": {},
   "outputs": [
    {
     "data": {
      "image/png": "[encoded data removed]",
      "text/plain": [
       "<Figure size 432x288 with 1 Axes>"
      ]
     },
     "metadata": {},
     "output_type": "display_data"
    }
   ],
   "source": [
    "plt.plot(x_history_points, pred_backward, '-o', color='g');\n",
    "plt.title('Backward interpolation');"
   ]
  },
  {
   "cell_type": "code",
   "execution_count": 137,
   "id": "2fe56c6b",
   "metadata": {},
   "outputs": [
    {
     "data": {
      "text/plain": [
       "[1.7777, 4.5634, 13.8436, 37.3387, 72.3593]"
      ]
     },
     "execution_count": 137,
     "metadata": {},
     "output_type": "execute_result"
    }
   ],
   "source": [
    "y_history_points"
   ]
  },
  {
   "cell_type": "code",
   "execution_count": 77,
   "id": "7ccbd7f7",
   "metadata": {},
   "outputs": [
    {
     "data": {
      "text/plain": [
       "92.0126"
      ]
     },
     "execution_count": 77,
     "metadata": {},
     "output_type": "execute_result"
    }
   ],
   "source": [
    "newtons_interpolation.interpolate_func_backward(x, h=x_history_points[-1]-x_history_points[-2])"
   ]
  },
  {
   "cell_type": "markdown",
   "id": "4002b743",
   "metadata": {},
   "source": [
    "### test cases"
   ]
  },
  {
   "cell_type": "code",
   "execution_count": 95,
   "id": "2d418f1e",
   "metadata": {},
   "outputs": [],
   "source": [
    "# cases were retrived from here https://atozmath.com/example/CONM/NumeInterPola.aspx?he=e&q=A"
   ]
  },
  {
   "cell_type": "code",
   "execution_count": 102,
   "id": "f1825376",
   "metadata": {},
   "outputs": [],
   "source": [
    "forward_case1 = {\"x_hist\": [1891,\n",
    "1901,\n",
    "1911,\n",
    "1921,\n",
    "1931,], \"y_hist\": [46,66,81,93,101], \"to_interp\":1895, \"real\":54.8528}\n",
    "forward_case2 = {\"x_hist\": [0,1,2,3], \"y_hist\": [1,0,1,10], \"to_interp\":-1, \"real\":-2}"
   ]
  },
  {
   "cell_type": "markdown",
   "id": "0d1ebdb3",
   "metadata": {},
   "source": [
    "#### case 1 forward"
   ]
  },
  {
   "cell_type": "code",
   "execution_count": 92,
   "id": "1b3aa517",
   "metadata": {},
   "outputs": [],
   "source": [
    "newtons_interpolation = NewtonsInterpolation(forward_case1['x_hist'], \n",
    "                                            forward_case1['y_hist'])"
   ]
  },
  {
   "cell_type": "code",
   "execution_count": 101,
   "id": "a4ab2a6f",
   "metadata": {},
   "outputs": [
    {
     "data": {
      "text/plain": [
       "0.0000"
      ]
     },
     "execution_count": 101,
     "metadata": {},
     "output_type": "execute_result"
    }
   ],
   "source": [
    "forward_case1['real']-newtons_interpolation.interpolate_func_forward(forward_case1['to_interp'])"
   ]
  },
  {
   "cell_type": "code",
   "execution_count": 98,
   "id": "50a281b2",
   "metadata": {},
   "outputs": [],
   "source": [
    "forward_pred = [newtons_interpolation.interpolate_func_forward(i) for i in forward_case1['x_hist']]"
   ]
  },
  {
   "cell_type": "code",
   "execution_count": 97,
   "id": "b65ac0b8",
   "metadata": {},
   "outputs": [
    {
     "data": {
      "image/png": "[encoded data removed]",
      "text/plain": [
       "<Figure size 432x288 with 1 Axes>"
      ]
     },
     "metadata": {},
     "output_type": "display_data"
    }
   ],
   "source": [
    "plt.plot(forward_case1['x_hist'],forward_case1['y_hist'], '-o', color='b');\n",
    "plt.title('Real');"
   ]
  },
  {
   "cell_type": "code",
   "execution_count": 100,
   "id": "2ba415ea",
   "metadata": {},
   "outputs": [
    {
     "data": {
      "image/png": "[encoded data removed]",
      "text/plain": [
       "<Figure size 432x288 with 1 Axes>"
      ]
     },
     "metadata": {},
     "output_type": "display_data"
    }
   ],
   "source": [
    "plt.plot(forward_case1['x_hist'],forward_pred , '-o', color='r');\n",
    "plt.title('Forward interpolation');"
   ]
  },
  {
   "cell_type": "markdown",
   "id": "0d2ef859",
   "metadata": {},
   "source": [
    "#### case 2 forward"
   ]
  },
  {
   "cell_type": "code",
   "execution_count": 103,
   "id": "41c666a2",
   "metadata": {},
   "outputs": [],
   "source": [
    "newtons_interpolation = NewtonsInterpolation(forward_case2['x_hist'], \n",
    "                                            forward_case2['y_hist'])"
   ]
  },
  {
   "cell_type": "code",
   "execution_count": 107,
   "id": "43b8a7ba",
   "metadata": {},
   "outputs": [],
   "source": [
    "forward_pred = [newtons_interpolation.interpolate_func_forward(i) for i in forward_case2['x_hist']]"
   ]
  },
  {
   "cell_type": "code",
   "execution_count": 104,
   "id": "15f226b0",
   "metadata": {},
   "outputs": [
    {
     "data": {
      "text/plain": [
       "0.0000"
      ]
     },
     "execution_count": 104,
     "metadata": {},
     "output_type": "execute_result"
    }
   ],
   "source": [
    "forward_case2['real']-newtons_interpolation.interpolate_func_forward(forward_case2['to_interp'])"
   ]
  },
  {
   "cell_type": "code",
   "execution_count": 105,
   "id": "fc8d3768",
   "metadata": {},
   "outputs": [
    {
     "data": {
      "image/png": "[encoded data removed]",
      "text/plain": [
       "<Figure size 432x288 with 1 Axes>"
      ]
     },
     "metadata": {},
     "output_type": "display_data"
    }
   ],
   "source": [
    "plt.plot(forward_case2['x_hist'],forward_case2['y_hist'], '-o', color='b');\n",
    "plt.title('Real');"
   ]
  },
  {
   "cell_type": "code",
   "execution_count": 108,
   "id": "6432a721",
   "metadata": {},
   "outputs": [
    {
     "data": {
      "image/png": "[encoded data removed]",
      "text/plain": [
       "<Figure size 432x288 with 1 Axes>"
      ]
     },
     "metadata": {},
     "output_type": "display_data"
    }
   ],
   "source": [
    "plt.plot(forward_case2['x_hist'],forward_pred, '-o', color='b');\n",
    "plt.title('Real');"
   ]
  },
  {
   "cell_type": "code",
   "execution_count": null,
   "id": "3d4e32e0",
   "metadata": {},
   "outputs": [],
   "source": []
  }
 ],
 "metadata": {
  "kernelspec": {
   "display_name": "Python 3 (ipykernel)",
   "language": "python",
   "name": "python3"
  },
  "language_info": {
   "codemirror_mode": {
    "name": "ipython",
    "version": 3
   },
   "file_extension": ".py",
   "mimetype": "text/x-python",
   "name": "python",
   "nbconvert_exporter": "python",
   "pygments_lexer": "ipython3",
   "version": "3.9.7"
  }
 },
 "nbformat": 4,
 "nbformat_minor": 5
}
