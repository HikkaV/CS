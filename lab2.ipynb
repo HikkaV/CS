{
 "cells": [
  {
   "cell_type": "markdown",
   "id": "b55c2375",
   "metadata": {},
   "source": [
    "# Intializing functions for random"
   ]
  },
  {
   "cell_type": "code",
   "execution_count": 9,
   "id": "693e64aa",
   "metadata": {},
   "outputs": [],
   "source": [
    "import math\n",
    "import sys"
   ]
  },
  {
   "cell_type": "code",
   "execution_count": 2,
   "id": "9f4e39cd",
   "metadata": {},
   "outputs": [],
   "source": [
    "def find_n(number):\n",
    "    return len(str(number).split('.')[-1])"
   ]
  },
  {
   "cell_type": "code",
   "execution_count": 3,
   "id": "2ff6f107",
   "metadata": {},
   "outputs": [],
   "source": [
    "def mean_squared_random(seed, size=1):\n",
    "    n = find_n(seed)\n",
    "    assert n%2==0 and isinstance(seed, float), 'Seed should be float number with 2n decimal number after coma'\n",
    "    to_return = []\n",
    "    for i in range(size):\n",
    "        squared = seed**2\n",
    "        squared = round(squared, n*2)\n",
    "        squared = squared*(10**(n//2))\n",
    "        if squared>1:\n",
    "            squared = squared%math.floor(squared)\n",
    "        squared = round(squared, n)\n",
    "        seed = squared\n",
    "        to_return.append(squared)\n",
    "    return to_return"
   ]
  },
  {
   "cell_type": "code",
   "execution_count": 40,
   "id": "41a8cd8e",
   "metadata": {},
   "outputs": [
    {
     "data": {
      "text/plain": [
       "[0.6311,\n",
       " 0.8287,\n",
       " 0.6744,\n",
       " 0.4815,\n",
       " 0.1842,\n",
       " 0.393,\n",
       " 0.4449,\n",
       " 0.7936,\n",
       " 0.9801,\n",
       " 0.0596,\n",
       " 0.3552,\n",
       " 0.6167,\n",
       " 0.0319,\n",
       " 0.1018,\n",
       " 0.0363,\n",
       " 0.1318,\n",
       " 0.7371,\n",
       " 0.3316,\n",
       " 0.9959,\n",
       " 0.1817]"
      ]
     },
     "execution_count": 40,
     "metadata": {},
     "output_type": "execute_result"
    }
   ],
   "source": [
    "mean_squared_random(0.2152,20)"
   ]
  },
  {
   "cell_type": "code",
   "execution_count": 36,
   "id": "010a79e0",
   "metadata": {},
   "outputs": [],
   "source": [
    "def multiplicative_random(X, t, p, g=4, size=1):\n",
    "    lambda_ = 8*t-3\n",
    "    M = p**g\n",
    "    to_return = []\n",
    "    for i in range(size):\n",
    "        multiplied = bin(lambda_*X)\n",
    "        X = int('0b'+multiplied[-g:],2)\n",
    "        x = X/M\n",
    "        to_return.append(x)\n",
    "    return to_return"
   ]
  },
  {
   "cell_type": "code",
   "execution_count": 41,
   "id": "95e25ce4",
   "metadata": {},
   "outputs": [
    {
     "data": {
      "text/plain": [
       "[0.1875,\n",
       " 0.9375,\n",
       " 0.6875,\n",
       " 0.4375,\n",
       " 0.1875,\n",
       " 0.9375,\n",
       " 0.6875,\n",
       " 0.4375,\n",
       " 0.1875,\n",
       " 0.9375,\n",
       " 0.6875,\n",
       " 0.4375,\n",
       " 0.1875,\n",
       " 0.9375,\n",
       " 0.6875,\n",
       " 0.4375,\n",
       " 0.1875,\n",
       " 0.9375,\n",
       " 0.6875,\n",
       " 0.4375]"
      ]
     },
     "execution_count": 41,
     "metadata": {},
     "output_type": "execute_result"
    }
   ],
   "source": [
    "multiplicative_random(7,1,2,g=4, size=20)"
   ]
  },
  {
   "cell_type": "code",
   "execution_count": 62,
   "id": "a336d80a",
   "metadata": {},
   "outputs": [],
   "source": [
    "def mixed_random(X, t, p, mu, g=4, size=1):\n",
    "    lambda_ = 8*t-3\n",
    "    M = p**g\n",
    "    to_return = []\n",
    "    for i in range(size):\n",
    "        multiplied = bin(lambda_*X+mu)\n",
    "        X = int('0b'+multiplied[2:][-g:],2)\n",
    "        x = X/M\n",
    "        to_return.append(x)\n",
    "    return to_return"
   ]
  },
  {
   "cell_type": "code",
   "execution_count": 65,
   "id": "60f6f7a3",
   "metadata": {},
   "outputs": [
    {
     "data": {
      "text/plain": [
       "[0.375,\n",
       " 0.0625,\n",
       " 0.5,\n",
       " 0.6875,\n",
       " 0.625,\n",
       " 0.3125,\n",
       " 0.75,\n",
       " 0.9375,\n",
       " 0.875,\n",
       " 0.5625,\n",
       " 0.0,\n",
       " 0.1875,\n",
       " 0.125,\n",
       " 0.8125,\n",
       " 0.25,\n",
       " 0.4375,\n",
       " 0.375,\n",
       " 0.0625,\n",
       " 0.5,\n",
       " 0.6875]"
      ]
     },
     "execution_count": 65,
     "metadata": {},
     "output_type": "execute_result"
    }
   ],
   "source": [
    "mixed_random(7,1,2,3,g=4, size=20)"
   ]
  },
  {
   "cell_type": "code",
   "execution_count": null,
   "id": "83786c76",
   "metadata": {},
   "outputs": [],
   "source": []
  }
 ],
 "metadata": {
  "kernelspec": {
   "display_name": "Python 3 (ipykernel)",
   "language": "python",
   "name": "python3"
  },
  "language_info": {
   "codemirror_mode": {
    "name": "ipython",
    "version": 3
   },
   "file_extension": ".py",
   "mimetype": "text/x-python",
   "name": "python",
   "nbconvert_exporter": "python",
   "pygments_lexer": "ipython3",
   "version": "3.9.7"
  }
 },
 "nbformat": 4,
 "nbformat_minor": 5
}
