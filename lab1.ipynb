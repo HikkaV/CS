{
 "cells": [
  {
   "cell_type": "code",
   "execution_count": 1,
   "id": "f1129803",
   "metadata": {},
   "outputs": [],
   "source": [
    "import matplotlib.pyplot as plt"
   ]
  },
  {
   "cell_type": "markdown",
   "id": "3c7a6751",
   "metadata": {},
   "source": [
    "# No numpy code, pure python"
   ]
  },
  {
   "cell_type": "markdown",
   "id": "aeda8b4d",
   "metadata": {},
   "source": [
    "# Initialize image"
   ]
  },
  {
   "cell_type": "code",
   "execution_count": 69,
   "id": "fad7df96",
   "metadata": {},
   "outputs": [],
   "source": [
    "image = []\n",
    "for i in range(8):\n",
    "    row = []\n",
    "    for j in range(8):\n",
    "        if i!=0 and i!=7 and j in range(1,7):\n",
    "            row.append(1)\n",
    "        else:\n",
    "            row.append(0)\n",
    "    image.append(row)"
   ]
  },
  {
   "cell_type": "code",
   "execution_count": 70,
   "id": "19c96fe9",
   "metadata": {},
   "outputs": [
    {
     "data": {
      "text/plain": [
       "<matplotlib.image.AxesImage at 0x11ec109d0>"
      ]
     },
     "execution_count": 70,
     "metadata": {},
     "output_type": "execute_result"
    },
    {
     "data": {
      "image/png": "[encoded data removed]",
      "text/plain": [
       "<Figure size 432x288 with 1 Axes>"
      ]
     },
     "metadata": {
      "needs_background": "light"
     },
     "output_type": "display_data"
    }
   ],
   "source": [
    "plt.imshow(image, 'gray')"
   ]
  },
  {
   "cell_type": "code",
   "execution_count": 71,
   "id": "3c26a8a7",
   "metadata": {},
   "outputs": [
    {
     "data": {
      "text/plain": [
       "[[0, 0, 0, 0, 0, 0, 0, 0],\n",
       " [0, 1, 1, 1, 1, 1, 1, 0],\n",
       " [0, 1, 1, 1, 1, 1, 1, 0],\n",
       " [0, 1, 1, 1, 1, 1, 1, 0],\n",
       " [0, 1, 1, 1, 1, 1, 1, 0],\n",
       " [0, 1, 1, 1, 1, 1, 1, 0],\n",
       " [0, 1, 1, 1, 1, 1, 1, 0],\n",
       " [0, 0, 0, 0, 0, 0, 0, 0]]"
      ]
     },
     "execution_count": 71,
     "metadata": {},
     "output_type": "execute_result"
    }
   ],
   "source": [
    "image"
   ]
  },
  {
   "cell_type": "markdown",
   "id": "213f0d7d",
   "metadata": {},
   "source": [
    "# Main functionality"
   ]
  },
  {
   "cell_type": "markdown",
   "id": "213fa9cf",
   "metadata": {},
   "source": [
    "## transposing"
   ]
  },
  {
   "cell_type": "code",
   "execution_count": 72,
   "id": "61c1aed1",
   "metadata": {},
   "outputs": [],
   "source": [
    "def transpose(image):\n",
    "    transposed_image = []\n",
    "    n = len(image)\n",
    "    m = len(image[0])\n",
    "    for i in range(m):\n",
    "        row = []\n",
    "        for j in range(n):\n",
    "            row.append(image[j][i])\n",
    "        transposed_image.append(row)\n",
    "    return transposed_image"
   ]
  },
  {
   "cell_type": "markdown",
   "id": "6ec814bc",
   "metadata": {},
   "source": [
    "### small test"
   ]
  },
  {
   "cell_type": "code",
   "execution_count": 73,
   "id": "833bb5ec",
   "metadata": {},
   "outputs": [
    {
     "data": {
      "text/plain": [
       "[[2, 5], [4, 3], [4, 1]]"
      ]
     },
     "execution_count": 73,
     "metadata": {},
     "output_type": "execute_result"
    }
   ],
   "source": [
    "transpose([[2,4, 4],\n",
    "         [5,3,1]])"
   ]
  },
  {
   "cell_type": "markdown",
   "id": "f83b184a",
   "metadata": {},
   "source": [
    "## matrix product"
   ]
  },
  {
   "cell_type": "code",
   "execution_count": 74,
   "id": "5efef0f4",
   "metadata": {},
   "outputs": [],
   "source": [
    "def elementwise_mul(vec1,vec2):\n",
    "    result = []\n",
    "    for i in range(len(vec1)):\n",
    "        result.append(vec1[i]*vec2[i])\n",
    "    return result"
   ]
  },
  {
   "cell_type": "code",
   "execution_count": 75,
   "id": "ffe08c3c",
   "metadata": {},
   "outputs": [],
   "source": [
    "def dot(image1, image2):\n",
    "    new_image = []\n",
    "    n = len(image1)\n",
    "    m = len(image2[0])\n",
    "    for i in range(n):\n",
    "        new_row = []\n",
    "        row1 = image1[i]\n",
    "        for j in range(m):\n",
    "            col2 = [el[j] for el in image2]\n",
    "            new_row.append(sum(elementwise_mul(row1, col2)))\n",
    "        new_image.append(new_row)\n",
    "    return new_image"
   ]
  },
  {
   "cell_type": "markdown",
   "id": "4a939805",
   "metadata": {},
   "source": [
    "### small test"
   ]
  },
  {
   "cell_type": "code",
   "execution_count": 76,
   "id": "6d949895",
   "metadata": {},
   "outputs": [
    {
     "data": {
      "text/plain": [
       "[[5, 5], [3, 5]]"
      ]
     },
     "execution_count": 76,
     "metadata": {},
     "output_type": "execute_result"
    }
   ],
   "source": [
    "dot([[2,5,3],[1,5,2]], [[1,0],[0,1],[1,0]])"
   ]
  },
  {
   "cell_type": "markdown",
   "id": "dd9c0a81",
   "metadata": {},
   "source": [
    "## rotation of image"
   ]
  },
  {
   "cell_type": "code",
   "execution_count": 77,
   "id": "e258a72e",
   "metadata": {},
   "outputs": [],
   "source": [
    "def init_identity(image, main=False):\n",
    "    n = len(image)\n",
    "    m = len(image[0])\n",
    "    new_image = []\n",
    "    for i in range(n):\n",
    "        new_row = []\n",
    "        for j in range(m):\n",
    "            if main:\n",
    "                if j!=i:\n",
    "                    new_row.append(0)\n",
    "                else:\n",
    "                    new_row.append(1)\n",
    "            else:\n",
    "                if j!=m-i-1:\n",
    "                    new_row.append(0)\n",
    "                else:\n",
    "                    new_row.append(1)\n",
    "        new_image.append(new_row)\n",
    "    return new_image"
   ]
  },
  {
   "cell_type": "markdown",
   "id": "cd0dfd8e",
   "metadata": {},
   "source": [
    "### small test"
   ]
  },
  {
   "cell_type": "code",
   "execution_count": 78,
   "id": "f7da027b",
   "metadata": {},
   "outputs": [
    {
     "data": {
      "text/plain": [
       "[[0, 0, 0, 0, 0, 0, 0, 1],\n",
       " [0, 0, 0, 0, 0, 0, 1, 0],\n",
       " [0, 0, 0, 0, 0, 1, 0, 0],\n",
       " [0, 0, 0, 0, 1, 0, 0, 0],\n",
       " [0, 0, 0, 1, 0, 0, 0, 0],\n",
       " [0, 0, 1, 0, 0, 0, 0, 0],\n",
       " [0, 1, 0, 0, 0, 0, 0, 0],\n",
       " [1, 0, 0, 0, 0, 0, 0, 0]]"
      ]
     },
     "execution_count": 78,
     "metadata": {},
     "output_type": "execute_result"
    }
   ],
   "source": [
    "init_identity(image)"
   ]
  },
  {
   "cell_type": "code",
   "execution_count": 79,
   "id": "f53f97d2",
   "metadata": {},
   "outputs": [],
   "source": [
    "def rotate(image, angle=90):\n",
    "    identity = init_identity(image)\n",
    "    rotated = image\n",
    "    if angle<0:\n",
    "        for i in range(abs(angle)//90):\n",
    "            rotated = dot(identity, transpose(rotated))\n",
    "    else:\n",
    "        for i in range(angle//90):\n",
    "            rotated = dot(transpose(rotated), identity)\n",
    "    return rotated"
   ]
  },
  {
   "cell_type": "markdown",
   "id": "3ad3b3ae",
   "metadata": {},
   "source": [
    "### small test"
   ]
  },
  {
   "cell_type": "code",
   "execution_count": 80,
   "id": "574cf549",
   "metadata": {},
   "outputs": [
    {
     "data": {
      "text/plain": [
       "<matplotlib.image.AxesImage at 0x11f5b9c10>"
      ]
     },
     "execution_count": 80,
     "metadata": {},
     "output_type": "execute_result"
    },
    {
     "data": {
      "image/png": "[encoded data removed]",
      "text/plain": [
       "<Figure size 432x288 with 1 Axes>"
      ]
     },
     "metadata": {
      "needs_background": "light"
     },
     "output_type": "display_data"
    }
   ],
   "source": [
    "plt.imshow(rotate(image, -90), 'gray')"
   ]
  },
  {
   "cell_type": "code",
   "execution_count": 81,
   "id": "00b2191f",
   "metadata": {},
   "outputs": [
    {
     "data": {
      "text/plain": [
       "<matplotlib.image.AxesImage at 0x11f71eed0>"
      ]
     },
     "execution_count": 81,
     "metadata": {},
     "output_type": "execute_result"
    },
    {
     "data": {
      "image/png": "[encoded data removed]",
      "text/plain": [
       "<Figure size 432x288 with 1 Axes>"
      ]
     },
     "metadata": {
      "needs_background": "light"
     },
     "output_type": "display_data"
    }
   ],
   "source": [
    "plt.imshow(rotate(image, 90), 'gray')"
   ]
  },
  {
   "cell_type": "code",
   "execution_count": 82,
   "id": "6cbdf444",
   "metadata": {},
   "outputs": [
    {
     "data": {
      "text/plain": [
       "<matplotlib.image.AxesImage at 0x11eae8b90>"
      ]
     },
     "execution_count": 82,
     "metadata": {},
     "output_type": "execute_result"
    },
    {
     "data": {
      "image/png": "[encoded data removed]",
      "text/plain": [
       "<Figure size 432x288 with 1 Axes>"
      ]
     },
     "metadata": {
      "needs_background": "light"
     },
     "output_type": "display_data"
    }
   ],
   "source": [
    "plt.imshow(rotate(image, 180), 'gray')"
   ]
  },
  {
   "cell_type": "markdown",
   "id": "8198cbde",
   "metadata": {},
   "source": [
    "# Finding countour"
   ]
  },
  {
   "cell_type": "code",
   "execution_count": 83,
   "id": "dc661eab",
   "metadata": {},
   "outputs": [],
   "source": [
    "def invert(image):\n",
    "    n = len(image)\n",
    "    m = len(image[0])\n",
    "    inverted = []\n",
    "    for i in range(n):\n",
    "        row = image[i]\n",
    "        new_row = []\n",
    "        for j in range(m):\n",
    "            if row[j]==0:\n",
    "                new_row.append(1)\n",
    "            else:\n",
    "                new_row.append(0)\n",
    "        inverted.append(new_row)\n",
    "    return inverted"
   ]
  },
  {
   "cell_type": "code",
   "execution_count": 84,
   "id": "3df26be7",
   "metadata": {},
   "outputs": [],
   "source": [
    "def elementwise_or(vec1, vec2):\n",
    "    new_vec = []\n",
    "    m = len(vec1)\n",
    "    for i in range(m):\n",
    "        new_vec.append(vec1[i] or vec2[i])\n",
    "    return new_vec"
   ]
  },
  {
   "cell_type": "code",
   "execution_count": 85,
   "id": "9a386cc1",
   "metadata": {},
   "outputs": [],
   "source": [
    "def matrix_or(matrix1, matrix2):\n",
    "    n = len(matrix1)\n",
    "    new_matrix = []\n",
    "    for i in range(n):\n",
    "        new_matrix.append(elementwise_or(matrix1[i], matrix2[i]))\n",
    "    return new_matrix"
   ]
  },
  {
   "cell_type": "code",
   "execution_count": 86,
   "id": "68a0e013",
   "metadata": {},
   "outputs": [],
   "source": [
    "def init_shift_matrix(matrix):\n",
    "    n = len(matrix)\n",
    "    m = len(matrix[0])\n",
    "    shift_matrix = []\n",
    "    for i in range(n):\n",
    "        row = matrix[i]\n",
    "        new_row = []\n",
    "        for j in range(m):\n",
    "            if j==i+1:\n",
    "                new_row.append(1)\n",
    "            else:\n",
    "                new_row.append(0)\n",
    "        shift_matrix.append(new_row)\n",
    "    return shift_matrix"
   ]
  },
  {
   "cell_type": "code",
   "execution_count": 87,
   "id": "0f3700c0",
   "metadata": {},
   "outputs": [],
   "source": [
    "def find_countour(image):\n",
    "    inverted = invert(image)\n",
    "    shift_matrix = init_shift_matrix(image)\n",
    "    transpose_shift_matrix = transpose(shift_matrix)\n",
    "    el1 = dot(inverted,shift_matrix)\n",
    "    el2 = dot(inverted,transpose_shift_matrix)\n",
    "    el3 = dot(shift_matrix, inverted)\n",
    "    el4 = dot(transpose_shift_matrix, inverted)\n",
    "    return matrix_or(inverted, invert(matrix_or(matrix_or(matrix_or(el1, el2), el3), el4)))"
   ]
  },
  {
   "cell_type": "markdown",
   "id": "c60f70d5",
   "metadata": {},
   "source": [
    "### small test"
   ]
  },
  {
   "cell_type": "code",
   "execution_count": 88,
   "id": "c7c4e895",
   "metadata": {},
   "outputs": [
    {
     "data": {
      "text/plain": [
       "<matplotlib.image.AxesImage at 0x11f909bd0>"
      ]
     },
     "execution_count": 88,
     "metadata": {},
     "output_type": "execute_result"
    },
    {
     "data": {
      "image/png": "[encoded data removed]",
      "text/plain": [
       "<Figure size 432x288 with 1 Axes>"
      ]
     },
     "metadata": {
      "needs_background": "light"
     },
     "output_type": "display_data"
    }
   ],
   "source": [
    "plt.imshow(image, 'gray')"
   ]
  },
  {
   "cell_type": "code",
   "execution_count": 89,
   "id": "f6e1014a",
   "metadata": {},
   "outputs": [
    {
     "data": {
      "text/plain": [
       "<matplotlib.image.AxesImage at 0x11f6f61d0>"
      ]
     },
     "execution_count": 89,
     "metadata": {},
     "output_type": "execute_result"
    },
    {
     "data": {
      "image/png": "[encoded data removed]",
      "text/plain": [
       "<Figure size 432x288 with 1 Axes>"
      ]
     },
     "metadata": {
      "needs_background": "light"
     },
     "output_type": "display_data"
    }
   ],
   "source": [
    "plt.imshow(find_countour(image), 'gray')"
   ]
  },
  {
   "cell_type": "markdown",
   "id": "8244471c",
   "metadata": {},
   "source": [
    "# Finding energy "
   ]
  },
  {
   "cell_type": "code",
   "execution_count": 91,
   "id": "881d804d",
   "metadata": {},
   "outputs": [],
   "source": [
    "def find_trace(matrix):\n",
    "    n = len(matrix)\n",
    "    trace = 0\n",
    "    for i in range(n):\n",
    "        trace+=matrix[i][i]\n",
    "    return trace"
   ]
  },
  {
   "cell_type": "code",
   "execution_count": 92,
   "id": "694b117e",
   "metadata": {},
   "outputs": [],
   "source": [
    "def find_energy(image):\n",
    "    return find_trace(dot(image,transpose(image)))"
   ]
  },
  {
   "cell_type": "code",
   "execution_count": 93,
   "id": "48993ae4",
   "metadata": {},
   "outputs": [
    {
     "data": {
      "text/plain": [
       "36"
      ]
     },
     "execution_count": 93,
     "metadata": {},
     "output_type": "execute_result"
    }
   ],
   "source": [
    "find_energy(image)"
   ]
  },
  {
   "cell_type": "code",
   "execution_count": null,
   "id": "7832aee8",
   "metadata": {},
   "outputs": [],
   "source": []
  }
 ],
 "metadata": {
  "kernelspec": {
   "display_name": "Python 3 (ipykernel)",
   "language": "python",
   "name": "python3"
  },
  "language_info": {
   "codemirror_mode": {
    "name": "ipython",
    "version": 3
   },
   "file_extension": ".py",
   "mimetype": "text/x-python",
   "name": "python",
   "nbconvert_exporter": "python",
   "pygments_lexer": "ipython3",
   "version": "3.7.6"
  }
 },
 "nbformat": 4,
 "nbformat_minor": 5
}
