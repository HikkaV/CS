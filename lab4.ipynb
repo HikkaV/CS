{
 "cells": [
  {
   "cell_type": "code",
   "execution_count": 1,
   "id": "34daa322",
   "metadata": {},
   "outputs": [],
   "source": [
    "import matplotlib.pyplot as plt\n",
    "import seaborn as sns\n",
    "import math\n",
    "from functools import partial, reduce\n",
    "from operator import mul\n",
    "sns.set()"
   ]
  },
  {
   "cell_type": "code",
   "execution_count": 2,
   "id": "d160134f",
   "metadata": {},
   "outputs": [],
   "source": [
    "y_history_points = [1.7777, 4.5634, 13.8436, 37.3387, 72.3593]\n",
    "x_history_points = [1.3, 2.1, 3.7, 6.1, 8.5]\n",
    "x = 4.5\n",
    "actual_func = lambda x: 1/x*math.log10(x)+x**2"
   ]
  },
  {
   "cell_type": "markdown",
   "id": "af45cdd4",
   "metadata": {},
   "source": [
    "# Lagrange interpolation"
   ]
  },
  {
   "cell_type": "code",
   "execution_count": 3,
   "id": "b9024f37",
   "metadata": {},
   "outputs": [],
   "source": [
    "class LagrangeInterpolation:\n",
    "    def __init__(self, x_history_points, y_history_points):\n",
    "        self.x_history_points = x_history_points\n",
    "        self.y_history_points = y_history_points\n",
    "        self.interpolated_func = self.__interpolate_func()\n",
    "        \n",
    "    def __interpolate_func(self):\n",
    "        # building a nested function which is a composite of other functions\n",
    "        list_to_sum_up = []\n",
    "        for i in range(len(self.y_history_points)):\n",
    "            funcs = []\n",
    "            for j in range(len(self.y_history_points)):\n",
    "                if i!=j:\n",
    "                    func = lambda x, x_j, x_i: (x-x_j)/(x_i-x_j)\n",
    "                    func = partial(func, x_j=self.x_history_points[j], x_i=self.x_history_points[i])\n",
    "                    funcs.append(func)\n",
    "            L = lambda x, y_i, funcs: y_i*reduce(mul,[func(x=x) for func in funcs])    \n",
    "            L = partial(L, y_i=self.y_history_points[i], funcs=funcs)\n",
    "            list_to_sum_up.append(L)\n",
    "        interpolated_func = lambda x: sum([func(x=x) for func in list_to_sum_up])\n",
    "        return interpolated_func\n",
    "    \n",
    "    def interpolate(self, x):\n",
    "        # inteprolation for single point\n",
    "        return self.interpolated_func(x)\n",
    "    \n",
    "    def get_interpolated_curve(self):\n",
    "        # interpolation for whole curve\n",
    "        y_interpolated = [self.interpolated_func(i) for i in self.x_history_points]\n",
    "        return self.x_history_points, y_interpolated\n",
    "    \n",
    "    def get_initial_curve(self):\n",
    "        # getting intial curve\n",
    "        return self.x_history_points, self.y_history_points\n",
    "    \n",
    "    def error_in_point(self, initial_func, x):\n",
    "        # calculating error in point\n",
    "        return abs(initial_func(x)-self.interpolated_func(x))"
   ]
  },
  {
   "cell_type": "code",
   "execution_count": 4,
   "id": "8e4ca959",
   "metadata": {},
   "outputs": [],
   "source": [
    "interpolation_cls = LagrangeInterpolation(x_history_points, y_history_points)"
   ]
  },
  {
   "cell_type": "code",
   "execution_count": 5,
   "id": "b4b04bcc",
   "metadata": {
    "scrolled": true
   },
   "outputs": [
    {
     "name": "stdout",
     "output_type": "stream",
     "text": [
      "Interpolated value for x=4.5 is y=20.386783333333334\n"
     ]
    }
   ],
   "source": [
    "print(f'Interpolated value for x={x} is y={interpolation_cls.interpolate(x)}')"
   ]
  },
  {
   "cell_type": "code",
   "execution_count": 6,
   "id": "81b64139",
   "metadata": {},
   "outputs": [
    {
     "data": {
      "image/png": "[encoded data removed]",
      "text/plain": [
       "<Figure size 432x288 with 1 Axes>"
      ]
     },
     "metadata": {},
     "output_type": "display_data"
    }
   ],
   "source": [
    "plt.plot(*interpolation_cls.get_initial_curve(), '-o', color='b');\n",
    "plt.title('Real');"
   ]
  },
  {
   "cell_type": "code",
   "execution_count": 7,
   "id": "9e07506a",
   "metadata": {},
   "outputs": [
    {
     "data": {
      "image/png": "[encoded data removed]",
      "text/plain": [
       "<Figure size 432x288 with 1 Axes>"
      ]
     },
     "metadata": {},
     "output_type": "display_data"
    }
   ],
   "source": [
    "plt.plot(*interpolation_cls.get_interpolated_curve(), '-o', color='r')\n",
    "plt.title('Interpolated');"
   ]
  },
  {
   "cell_type": "code",
   "execution_count": 8,
   "id": "9a468e57",
   "metadata": {},
   "outputs": [
    {
     "name": "stdout",
     "output_type": "stream",
     "text": [
      "Actual error : 0.008375003061185993\n"
     ]
    }
   ],
   "source": [
    "print(f'Actual error : {interpolation_cls.error_in_point(actual_func, x)}')"
   ]
  },
  {
   "cell_type": "markdown",
   "id": "c4e9da59",
   "metadata": {},
   "source": [
    "# Computing theoretical error"
   ]
  },
  {
   "cell_type": "raw",
   "id": "6541a0c1",
   "metadata": {},
   "source": [
    "A = (x-x_0)*(x-x_1)*(x-x_2)*(x-x_3)*(x-x_4)\n",
    "n = 4+1\n",
    "B = n!\n",
    "K = A/B\n",
    "f(x) = (1/x)*log_10(x)+x**2\n",
    "M = |f^n(x)|\n",
    "error = (M/B)*A"
   ]
  },
  {
   "cell_type": "code",
   "execution_count": 136,
   "id": "edf2ea65",
   "metadata": {},
   "outputs": [],
   "source": [
    "A = reduce(mul,[abs(x-i) for i in x_history_points])"
   ]
  },
  {
   "cell_type": "code",
   "execution_count": 137,
   "id": "9815753d",
   "metadata": {},
   "outputs": [
    {
     "data": {
      "text/plain": [
       "39.32159999999998"
      ]
     },
     "execution_count": 137,
     "metadata": {},
     "output_type": "execute_result"
    }
   ],
   "source": [
    "A"
   ]
  },
  {
   "cell_type": "code",
   "execution_count": 138,
   "id": "c79ebb72",
   "metadata": {},
   "outputs": [
    {
     "name": "stdout",
     "output_type": "stream",
     "text": [
      "4\n"
     ]
    }
   ],
   "source": [
    "n = len(x_history_points)-1\n",
    "print(n)\n",
    "B = reduce(mul,range(1,n+2))"
   ]
  },
  {
   "cell_type": "code",
   "execution_count": 139,
   "id": "354960a2",
   "metadata": {},
   "outputs": [
    {
     "data": {
      "text/plain": [
       "120"
      ]
     },
     "execution_count": 139,
     "metadata": {},
     "output_type": "execute_result"
    }
   ],
   "source": [
    "B"
   ]
  },
  {
   "cell_type": "code",
   "execution_count": 140,
   "id": "55bd7948",
   "metadata": {},
   "outputs": [],
   "source": [
    "K = A/B"
   ]
  },
  {
   "cell_type": "code",
   "execution_count": 141,
   "id": "21f7be00",
   "metadata": {},
   "outputs": [
    {
     "data": {
      "text/plain": [
       "0.32767999999999986"
      ]
     },
     "execution_count": 141,
     "metadata": {},
     "output_type": "execute_result"
    }
   ],
   "source": [
    "K"
   ]
  },
  {
   "cell_type": "code",
   "execution_count": 148,
   "id": "598a4c15",
   "metadata": {},
   "outputs": [],
   "source": [
    "f = lambda x: 2*math.log(10)*(3*(math.log(x)**4)+5*(math.log(x)**3)-15*(math.log(x)**2)-60*math.log(x)-60)/(x**4*(math.log(x)**6))\n",
    "# second derivative"
   ]
  },
  {
   "cell_type": "code",
   "execution_count": 149,
   "id": "522b256f",
   "metadata": {},
   "outputs": [],
   "source": [
    "M = lambda f: max([abs(f(i)) for i in x_history_points])"
   ]
  },
  {
   "cell_type": "code",
   "execution_count": 150,
   "id": "314e13f2",
   "metadata": {},
   "outputs": [
    {
     "name": "stdout",
     "output_type": "stream",
     "text": [
      "Theoretical error : 124199.2095887773\n"
     ]
    }
   ],
   "source": [
    "print(\"Theoretical error : {}\".format(K*M(f)))"
   ]
  },
  {
   "cell_type": "code",
   "execution_count": null,
   "id": "b7803ec5",
   "metadata": {},
   "outputs": [],
   "source": []
  }
 ],
 "metadata": {
  "kernelspec": {
   "display_name": "Python 3 (ipykernel)",
   "language": "python",
   "name": "python3"
  },
  "language_info": {
   "codemirror_mode": {
    "name": "ipython",
    "version": 3
   },
   "file_extension": ".py",
   "mimetype": "text/x-python",
   "name": "python",
   "nbconvert_exporter": "python",
   "pygments_lexer": "ipython3",
   "version": "3.9.7"
  }
 },
 "nbformat": 4,
 "nbformat_minor": 5
}
