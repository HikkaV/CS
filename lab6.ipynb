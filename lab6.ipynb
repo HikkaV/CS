{
 "cells": [
  {
   "cell_type": "markdown",
   "id": "cde455d6",
   "metadata": {},
   "source": [
    "# Creation of data"
   ]
  },
  {
   "cell_type": "code",
   "execution_count": 8,
   "id": "f89f7041",
   "metadata": {},
   "outputs": [],
   "source": [
    "import random"
   ]
  },
  {
   "cell_type": "code",
   "execution_count": 14,
   "id": "03ad24f8",
   "metadata": {},
   "outputs": [],
   "source": [
    "N=8\n",
    "L=6\n",
    "d = [random.randint(1, 125) for i in range(N)]\n",
    "g = [complex(random.randint(1, 36),random.randint(20, 140)) for i in range(L)]"
   ]
  },
  {
   "cell_type": "code",
   "execution_count": 15,
   "id": "9b0e9886",
   "metadata": {},
   "outputs": [
    {
     "data": {
      "text/plain": [
       "([16, 30, 50, 11, 85, 14, 124, 76],\n",
       " [(22+33j), (2+95j), (28+99j), (3+73j), (11+69j), (17+114j)])"
      ]
     },
     "execution_count": 15,
     "metadata": {},
     "output_type": "execute_result"
    }
   ],
   "source": [
    "d, g"
   ]
  },
  {
   "cell_type": "markdown",
   "id": "c6624de4",
   "metadata": {},
   "source": [
    "# Convolution"
   ]
  },
  {
   "cell_type": "code",
   "execution_count": 71,
   "id": "55271bf6",
   "metadata": {},
   "outputs": [],
   "source": [
    "def conv(d,g, verbose=0):\n",
    "    s = []\n",
    "    for i in range(len(d)+len(g)-2):\n",
    "        new_el = 0\n",
    "        op = \"\"\n",
    "        for k in range(len(d)-1):\n",
    "            if i-k<0 or i-k>=len(g):\n",
    "                el = 0 \n",
    "            else:\n",
    "                el = g[i-k]\n",
    "                op+=f\"g[{i-k}]*d[{k}]+\"\n",
    "            new_el+=el*d[k]\n",
    "        if verbose:\n",
    "            print(f'Performed operations on step {i} : {op[:-1]}')\n",
    "        s.append(new_el)\n",
    "    return s"
   ]
  },
  {
   "cell_type": "code",
   "execution_count": 72,
   "id": "49b3c717",
   "metadata": {},
   "outputs": [
    {
     "name": "stdout",
     "output_type": "stream",
     "text": [
      "Performed operations on step 0 : g[0]*d[0]\n",
      "Performed operations on step 1 : g[1]*d[0]+g[0]*d[1]\n",
      "Performed operations on step 2 : g[2]*d[0]+g[1]*d[1]+g[0]*d[2]\n",
      "Performed operations on step 3 : g[3]*d[0]+g[2]*d[1]+g[1]*d[2]+g[0]*d[3]\n",
      "Performed operations on step 4 : g[4]*d[0]+g[3]*d[1]+g[2]*d[2]+g[1]*d[3]+g[0]*d[4]\n",
      "Performed operations on step 5 : g[5]*d[0]+g[4]*d[1]+g[3]*d[2]+g[2]*d[3]+g[1]*d[4]+g[0]*d[5]\n",
      "Performed operations on step 6 : g[5]*d[1]+g[4]*d[2]+g[3]*d[3]+g[2]*d[4]+g[1]*d[5]+g[0]*d[6]\n",
      "Performed operations on step 7 : g[5]*d[2]+g[4]*d[3]+g[3]*d[4]+g[2]*d[5]+g[1]*d[6]\n",
      "Performed operations on step 8 : g[5]*d[3]+g[4]*d[4]+g[3]*d[5]+g[2]*d[6]\n",
      "Performed operations on step 9 : g[5]*d[4]+g[4]*d[5]+g[3]*d[6]\n",
      "Performed operations on step 10 : g[5]*d[5]+g[4]*d[6]\n",
      "Performed operations on step 11 : g[5]*d[6]\n"
     ]
    }
   ],
   "source": [
    "s = conv(d,g, 1)"
   ]
  },
  {
   "cell_type": "code",
   "execution_count": 73,
   "id": "1d9c9b4d",
   "metadata": {},
   "outputs": [],
   "source": [
    "assert len(s)==N+L-2"
   ]
  },
  {
   "cell_type": "code",
   "execution_count": 79,
   "id": "cb5f7a24",
   "metadata": {},
   "outputs": [
    {
     "data": {
      "text/plain": [
       "[(352+528j),\n",
       " (692+2510j),\n",
       " (1608+6084j),\n",
       " (1230+9251j),\n",
       " (3558+12094j),\n",
       " (1538+17170j),\n",
       " (6229+21510j),\n",
       " (1866+25830j),\n",
       " (4636+20417j),\n",
       " (1971+19708j),\n",
       " (1602+10152j),\n",
       " (2108+14136j)]"
      ]
     },
     "execution_count": 79,
     "metadata": {},
     "output_type": "execute_result"
    }
   ],
   "source": [
    "s"
   ]
  },
  {
   "cell_type": "markdown",
   "id": "4271edc7",
   "metadata": {},
   "source": [
    "# Correlation"
   ]
  },
  {
   "cell_type": "code",
   "execution_count": 76,
   "id": "503c95ec",
   "metadata": {},
   "outputs": [],
   "source": [
    "def corr(d,g, verbose=0):\n",
    "    r = []\n",
    "    for i in range(len(d)+len(g)-2):\n",
    "        new_el = 0\n",
    "        op = \"\"\n",
    "        for k in range(len(d)-1):\n",
    "            if i+k>=len(g):\n",
    "                el = 0 \n",
    "            else:\n",
    "                el = g[i+k]\n",
    "                op+=f\"g[{i+k}]*d[{k}]+\"\n",
    "            new_el+=el*d[k]\n",
    "        if verbose:\n",
    "            print(f'Performed operations on step {i} : {op[:-1]}')\n",
    "        r.append(new_el)\n",
    "    return r"
   ]
  },
  {
   "cell_type": "code",
   "execution_count": 77,
   "id": "5fdb63c9",
   "metadata": {},
   "outputs": [
    {
     "name": "stdout",
     "output_type": "stream",
     "text": [
      "Performed operations on step 0 : g[0]*d[0]+g[1]*d[1]+g[2]*d[2]+g[3]*d[3]+g[4]*d[4]+g[5]*d[5]\n",
      "Performed operations on step 1 : g[1]*d[0]+g[2]*d[1]+g[3]*d[2]+g[4]*d[3]+g[5]*d[4]\n",
      "Performed operations on step 2 : g[2]*d[0]+g[3]*d[1]+g[4]*d[2]+g[5]*d[3]\n",
      "Performed operations on step 3 : g[3]*d[0]+g[4]*d[1]+g[5]*d[2]\n",
      "Performed operations on step 4 : g[4]*d[0]+g[5]*d[1]\n",
      "Performed operations on step 5 : g[5]*d[0]\n",
      "Performed operations on step 6 : \n",
      "Performed operations on step 7 : \n",
      "Performed operations on step 8 : \n",
      "Performed operations on step 9 : \n",
      "Performed operations on step 10 : \n",
      "Performed operations on step 11 : \n"
     ]
    }
   ],
   "source": [
    "r = corr(d,g, 1)"
   ]
  },
  {
   "cell_type": "code",
   "execution_count": 78,
   "id": "0e8de8a5",
   "metadata": {},
   "outputs": [
    {
     "data": {
      "text/plain": [
       "[(3018+16592j),\n",
       " (2588+18589j),\n",
       " (1275+8478j),\n",
       " (1228+8938j),\n",
       " (686+4524j),\n",
       " (272+1824j),\n",
       " 0,\n",
       " 0,\n",
       " 0,\n",
       " 0,\n",
       " 0,\n",
       " 0]"
      ]
     },
     "execution_count": 78,
     "metadata": {},
     "output_type": "execute_result"
    }
   ],
   "source": [
    "r"
   ]
  },
  {
   "cell_type": "code",
   "execution_count": null,
   "id": "84a0e5ee",
   "metadata": {},
   "outputs": [],
   "source": []
  }
 ],
 "metadata": {
  "kernelspec": {
   "display_name": "Python 3 (ipykernel)",
   "language": "python",
   "name": "python3"
  },
  "language_info": {
   "codemirror_mode": {
    "name": "ipython",
    "version": 3
   },
   "file_extension": ".py",
   "mimetype": "text/x-python",
   "name": "python",
   "nbconvert_exporter": "python",
   "pygments_lexer": "ipython3",
   "version": "3.9.7"
  }
 },
 "nbformat": 4,
 "nbformat_minor": 5
}
